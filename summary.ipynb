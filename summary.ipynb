{
 "cells": [
  {
   "cell_type": "markdown",
   "id": "tender-portfolio",
   "metadata": {},
   "source": [
    "### Import packages"
   ]
  },
  {
   "cell_type": "code",
   "execution_count": null,
   "id": "experimental-cheese",
   "metadata": {},
   "outputs": [],
   "source": [
    "import numpy as np\n",
    "import matplotlib.pyplot as plt\n",
    "from PIL import Image"
   ]
  },
  {
   "cell_type": "markdown",
   "id": "outdoor-contract",
   "metadata": {},
   "source": [
    "### Get the summarized results"
   ]
  },
  {
   "cell_type": "code",
   "execution_count": 6,
   "id": "tracked-infection",
   "metadata": {},
   "outputs": [],
   "source": [
    "# Initialization\n",
    "file = open('results/verify/summary_problems.txt','w')\n",
    "runlist = np.loadtxt(\"runs_calib.dat\",dtype=int)\n",
    "images = []\n",
    "i = -1\n",
    "numbers = np.zeros(3000)\n",
    "offsets = np.zeros((3000,2,274))\n",
    "resolutions = np.zeros((3000,2,274))\n",
    "\n",
    "for run in runlist:\n",
    "    if np.loadtxt(\"results/verify/stats-\"+str(run)+\".txt\").size>0:\n",
    "        i += 1\n",
    "        images.append(Image.open(\"results/verify/image-\"+str(run)+\".png\"))\n",
    "        \n",
    "        # Get the offsets and errors\n",
    "        numbers[i] = run\n",
    "        offsets[i,0,:] = np.loadtxt(\"results/verify/stats-\"+str(run)+\".txt\")[:,1]*1000\n",
    "        offsets[i,1,:] = np.loadtxt(\"results/verify/stats-\"+str(run)+\".txt\")[:,5]*1000\n",
    "        resolutions[i,0,:] = np.loadtxt(\"results/verify/stats-\"+str(run)+\".txt\")[:,2]*1000\n",
    "        resolutions[i,1,:] = np.loadtxt(\"results/verify/stats-\"+str(run)+\".txt\")[:,6]*1000\n",
    "        \n",
    "        # Check if above the threshold\n",
    "        if np.average(abs(offsets[i,0,:])) > 500:\n",
    "            file.write(str(run)+\": average TDC-ADC offset is \"+str(\"%.2f\" % np.average(abs(offsets[i,0,:])))+\" ps, greater than 500 ps\\n\")\n",
    "#             file.write(str(run)+\"\\n\")\n",
    "#             continue\n",
    "        if np.average(abs(offsets[i,1,:])) > 500:\n",
    "            file.write(str(run)+\": average TDC-RF offset is \"+str(\"%.2f\" % np.average(abs(offsets[i,1,:])))+\" ps, greater than 500 ps\\n\")\n",
    "#             file.write(str(run)+\"\\n\")\n",
    "#             continue \n",
    "        if np.max(abs(offsets[i,0,:])) > 1000:\n",
    "            file.write(str(run)+\": max TDC-ADC offset is \"+str(\"%.2f\" % np.max(abs(offsets[i,0,:])))+\" ps, greater than 1000 ps\\n\")\n",
    "#             file.write(str(run)+\"\\n\")\n",
    "#             continue\n",
    "        if np.max(abs(offsets[i,1,:])) > 1000:\n",
    "            file.write(str(run)+\": max TDC-RF offset is \"+str(\"%.2f\" % np.max(abs(offsets[i,1,:])))+\" ps, greater than 1000 ps\\n\")\n",
    "#             file.write(str(run)+\"\\n\")\n",
    "#             continue\n",
    "#         if np.average(resolutions[i,1,:]) > 200:\n",
    "#             file.write(str(run)+\" average TDC-RF resolution is \"+str(\"%.2f\" % np.average(abs(resolutions[i,1,:])))+\" ps, greater than 200 ps\\n\")\n",
    "#             file.write(str(run)+\"\\n\")\n",
    "#             continue\n",
    "#         if np.average(resolutions[i,1,:]) < 100:\n",
    "#             file.write(str(run)+\" average TDC-RF resolution is \"+str(\"%.2f\" % np.average(abs(resolutions[i,1,:])))+\" ps, smaller than 100 ps\\n\")\n",
    "#             file.write(str(run)+\"\\n\")\n",
    "#             continue\n",
    "    else:\n",
    "        file.write(str(run)+\" file doesn't exist\\n\")\n",
    "        \n",
    "# Plot the average TDC-ADC offsets\n",
    "plt.scatter(numbers[:i],np.average(abs(offsets[:i,0,:]),axis=1))\n",
    "plt.ylim([0,200])\n",
    "plt.xlabel(\"Run\")\n",
    "plt.ylabel(\"TDC-ADC offset(ps)\")\n",
    "plt.title(\"TDC-ADC offsets, average of all sectors\")\n",
    "plt.savefig('results/verify/summary_offsets_tdc-adc_average.png')\n",
    "plt.close()\n",
    "\n",
    "# Plot the average TDC-RF offsets\n",
    "plt.scatter(numbers[:i],np.average(abs(offsets[:i,1,:]),axis=1))\n",
    "plt.ylim([0,200])\n",
    "plt.xlabel(\"Run\")\n",
    "plt.ylabel(\"TDC-RF offset(ps)\")\n",
    "plt.title(\"TDC-RF offsets, average of all sectors\")\n",
    "plt.savefig('results/verify/summary_offsets_tdc-rf_average.png')\n",
    "plt.close()\n",
    "\n",
    "# Plot the average TDC resolutions\n",
    "plt.scatter(numbers[:i],np.average(resolutions[:i,1,:],axis=1))\n",
    "plt.ylim([0,400])\n",
    "plt.xlabel(\"Run\")\n",
    "plt.ylabel(\"TDC resolution(ps)\")\n",
    "plt.title(\"TDC resolutions, average of all sectors\")\n",
    "plt.savefig('results/verify/summary_resolutions_average.png')\n",
    "plt.close()\n",
    "\n",
    "# Concatenate the images to one PDF\n",
    "images[0].save(\"results/verify/summary_check.pdf\", \"PDF\" ,resolution=100.0, save_all=True, append_images=images[1:])"
   ]
  }
 ],
 "metadata": {
  "kernelspec": {
   "display_name": "Python 3",
   "language": "python",
   "name": "python3"
  },
  "language_info": {
   "codemirror_mode": {
    "name": "ipython",
    "version": 3
   },
   "file_extension": ".py",
   "mimetype": "text/x-python",
   "name": "python",
   "nbconvert_exporter": "python",
   "pygments_lexer": "ipython3",
   "version": "3.8.6"
  }
 },
 "nbformat": 4,
 "nbformat_minor": 5
}
