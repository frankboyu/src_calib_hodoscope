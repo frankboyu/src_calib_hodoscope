{
 "cells": [
  {
   "cell_type": "code",
   "execution_count": null,
   "id": "certified-jimmy",
   "metadata": {},
   "outputs": [],
   "source": [
    "from PIL import Image\n",
    "import numpy as np\n",
    "\n",
    "images = []\n",
    "runlist = np.loadtxt(\"runs_calib.dat\",dtype=int)\n",
    "\n",
    "for run in runlist:  \n",
    "    images.append(Image.open(\"results/verify/image-\"+str(run)+\".png\"))\n",
    "\n",
    "images[0].save(\"results/verify/summary_check.pdf\", \"PDF\" ,resolution=100.0, save_all=True, append_images=images[1:])"
   ]
  },
  {
   "cell_type": "code",
   "execution_count": null,
   "id": "israeli-nurse",
   "metadata": {},
   "outputs": [],
   "source": []
  }
 ],
 "metadata": {
  "kernelspec": {
   "display_name": "Python 3",
   "language": "python",
   "name": "python3"
  },
  "language_info": {
   "codemirror_mode": {
    "name": "ipython",
    "version": 3
   },
   "file_extension": ".py",
   "mimetype": "text/x-python",
   "name": "python",
   "nbconvert_exporter": "python",
   "pygments_lexer": "ipython3",
   "version": "3.8.6"
  }
 },
 "nbformat": 4,
 "nbformat_minor": 5
}
